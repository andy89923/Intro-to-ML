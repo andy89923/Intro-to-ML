{
 "cells": [
  {
   "cell_type": "markdown",
   "id": "clinical-answer",
   "metadata": {},
   "source": [
    "# 2021 Intro. to Machine Learning \n",
    "## Program Assignment #3 - K-means Clustering\n",
    "\n",
    "\n",
    "### 0816153 陳琮方"
   ]
  },
  {
   "cell_type": "code",
   "execution_count": 1,
   "id": "alternate-windsor",
   "metadata": {},
   "outputs": [],
   "source": [
    "import pandas as pd\n",
    "import numpy as np\n",
    "import warnings\n",
    "warnings.filterwarnings('ignore')"
   ]
  },
  {
   "cell_type": "markdown",
   "id": "royal-pitch",
   "metadata": {},
   "source": [
    "## Data Input\n",
    "\n",
    "使用一般的讀檔方法，將資料讀進來，用 numpy array 的資料型態。"
   ]
  },
  {
   "cell_type": "code",
   "execution_count": 2,
   "id": "funded-wagon",
   "metadata": {},
   "outputs": [
    {
     "name": "stdout",
     "output_type": "stream",
     "text": [
      "(210, 8)\n"
     ]
    }
   ],
   "source": [
    "raw_data_path = './Dataset/seeds_dataset.txt'\n",
    "\n",
    "with open(raw_data_path, 'r') as f:\n",
    "    raw_data = np.array([[float(attr) for attr in line.split()] for line in f.readlines()])\n",
    "    \n",
    "print(raw_data.shape)"
   ]
  },
  {
   "cell_type": "markdown",
   "id": "announced-mouse",
   "metadata": {},
   "source": [
    "## Data Preprocessing\n",
    "\n",
    "設定 K-means 的最深程度，以防沒有收斂然後重複太深。\n",
    "將資料做 shuffle ，並將 Label 從 X 拉離，設為 Y。"
   ]
  },
  {
   "cell_type": "code",
   "execution_count": 3,
   "id": "designing-parking",
   "metadata": {},
   "outputs": [],
   "source": [
    "MAX_DEPTH = 20"
   ]
  },
  {
   "cell_type": "code",
   "execution_count": 4,
   "id": "small-forge",
   "metadata": {},
   "outputs": [
    {
     "name": "stdout",
     "output_type": "stream",
     "text": [
      "X Shape = (210, 7)\n",
      "Y Shape = 210 * 1\n"
     ]
    }
   ],
   "source": [
    "np.random.shuffle(raw_data) \n",
    "\n",
    "X = np.delete(raw_data, -1, axis = 1)\n",
    "Y = raw_data[:, -1:]\n",
    "Y = Y.astype(int)\n",
    "Y = Y.flatten()\n",
    "Y = Y.tolist()\n",
    "\n",
    "print(f'X Shape = {X.shape}')\n",
    "print(f'Y Shape = {len(Y)} * 1')"
   ]
  },
  {
   "cell_type": "markdown",
   "id": "fantastic-outdoors",
   "metadata": {},
   "source": [
    "## K-means Clustering \n",
    "\n",
    "K-mean 的 function ，並將分群做 Majority ，看原本的 Group"
   ]
  },
  {
   "cell_type": "code",
   "execution_count": 5,
   "id": "textile-designation",
   "metadata": {},
   "outputs": [],
   "source": [
    "def kmeans(X, num_clusters):\n",
    "\n",
    "    num_feat = len(X[1])\n",
    "    max_dept = MAX_DEPTH\n",
    "\n",
    "    np.random.seed(59487)\n",
    "\n",
    "    # Init\n",
    "    group_info = np.random.randint(num_clusters, size = X.shape[0])\n",
    "    group_mean = np.zeros([num_clusters, num_feat])\n",
    "    datas_grop = [[] for i in range(num_clusters)]\n",
    "\n",
    "#     print(f'Start K-means: {num_clusters}')\n",
    "    \n",
    "    for i, j in zip(X, group_info):\n",
    "        datas_grop[j].append(i)\n",
    "\n",
    "    for i in range(num_clusters):\n",
    "        group_mean[i] = np.mean(datas_grop[i], axis = 0)\n",
    "\n",
    "    INF = 2147483647\n",
    "    delta = 0\n",
    "    dep = 0\n",
    "    while True:\n",
    "        dep += 1\n",
    "        for i in range(X.shape[0]):\n",
    "            now_grp = group_info[i]\n",
    "            nxt_grp = now_grp\n",
    "            dis_min = INF\n",
    "            for j in range(num_clusters):\n",
    "                tmp_dis = np.sqrt(np.power(X[i] - group_mean[j], 2).sum())\n",
    "                if tmp_dis < dis_min:\n",
    "                    dis_min = tmp_dis\n",
    "                    nxt_grp = j\n",
    "            \n",
    "            delta += (now_grp != nxt_grp)\n",
    "            group_info[i] = nxt_grp\n",
    "        \n",
    "        # Recalculate mean\n",
    "        group_mean = np.zeros([num_clusters, num_feat])    \n",
    "        datas_grop = [[] for i in range(num_clusters)]\n",
    "\n",
    "        for i, j in zip(X, group_info):\n",
    "            datas_grop[j].append(i)\n",
    "\n",
    "        for i in range(num_clusters):\n",
    "            group_mean[i] = np.mean(datas_grop[i], axis = 0)\n",
    "            \n",
    "        if dep >= max_dept or delta < 1e-5:\n",
    "            return [group_info, group_mean]\n",
    "\n",
    "            \n",
    "    return [group_info, group_mean]"
   ]
  },
  {
   "cell_type": "code",
   "execution_count": 6,
   "id": "catholic-serial",
   "metadata": {},
   "outputs": [
    {
     "name": "stdout",
     "output_type": "stream",
     "text": [
      "{0: 2, 1: 1, 2: 3}\n"
     ]
    }
   ],
   "source": [
    "group_info, _ = kmeans(X, 3)\n",
    "\n",
    "nums = [{ 1: 0, 2:0, 3:0 } for i in range(3)]\n",
    "\n",
    "p = 0\n",
    "for i in group_info:\n",
    "    nums[i][Y[p]] += 1\n",
    "    p += 1\n",
    "\n",
    "gp_to_key = {}\n",
    "for i in range(3):\n",
    "    gp_to_key[i] = max(nums[i], key=nums[i].get)\n",
    "    \n",
    "print(gp_to_key)"
   ]
  },
  {
   "cell_type": "markdown",
   "id": "further-phrase",
   "metadata": {},
   "source": [
    "## Results\n",
    "\n",
    "使用 Sklearn 的 function ，去算四個數值。"
   ]
  },
  {
   "cell_type": "code",
   "execution_count": 7,
   "id": "reverse-pitch",
   "metadata": {},
   "outputs": [
    {
     "data": {
      "text/html": [
       "<div>\n",
       "<style scoped>\n",
       "    .dataframe tbody tr th:only-of-type {\n",
       "        vertical-align: middle;\n",
       "    }\n",
       "\n",
       "    .dataframe tbody tr th {\n",
       "        vertical-align: top;\n",
       "    }\n",
       "\n",
       "    .dataframe thead th {\n",
       "        text-align: right;\n",
       "    }\n",
       "</style>\n",
       "<table border=\"1\" class=\"dataframe\">\n",
       "  <thead>\n",
       "    <tr style=\"text-align: right;\">\n",
       "      <th></th>\n",
       "      <th>Accuracy</th>\n",
       "      <th>Recall</th>\n",
       "      <th>Precision</th>\n",
       "      <th>Confusion Matrix</th>\n",
       "    </tr>\n",
       "  </thead>\n",
       "  <tbody>\n",
       "    <tr>\n",
       "      <th>K-means</th>\n",
       "      <td>89.52</td>\n",
       "      <td>[0.86, 0.86, 0.97]</td>\n",
       "      <td>[0.83, 0.98, 0.88]</td>\n",
       "      <td>[[60, 1, 9], [10, 60, 0], [2, 0, 68]]</td>\n",
       "    </tr>\n",
       "  </tbody>\n",
       "</table>\n",
       "</div>"
      ],
      "text/plain": [
       "         Accuracy              Recall           Precision  \\\n",
       "K-means     89.52  [0.86, 0.86, 0.97]  [0.83, 0.98, 0.88]   \n",
       "\n",
       "                              Confusion Matrix  \n",
       "K-means  [[60, 1, 9], [10, 60, 0], [2, 0, 68]]  "
      ]
     },
     "execution_count": 7,
     "metadata": {},
     "output_type": "execute_result"
    }
   ],
   "source": [
    "from sklearn.metrics import accuracy_score, recall_score, confusion_matrix, precision_score\n",
    "\n",
    "def getResult(y_test, y_pred):\n",
    "    ret = {}\n",
    "    \n",
    "    ret['Accuracy'] = round(accuracy_score(y_test, y_pred), 4) * 100\n",
    "    ret['Recall'] = np.round(recall_score(y_test, y_pred, average=None), 2)\n",
    "    ret['Precision'] = np.round(precision_score(y_test, y_pred, average=None), 2)\n",
    "    ret['Confusion Matrix'] = confusion_matrix(y_test, y_pred)\n",
    "    \n",
    "    return ret\n",
    "\n",
    "predict_y = [gp_to_key[i] for i in group_info]\n",
    "\n",
    "result = {}\n",
    "result['K-means'] = getResult(Y, predict_y)\n",
    "\n",
    "pd.options.display.max_colwidth = 80\n",
    "df = pd.DataFrame.from_dict(result, orient = 'index')\n",
    "df"
   ]
  },
  {
   "cell_type": "markdown",
   "id": "specified-presence",
   "metadata": {},
   "source": [
    "## Question - K-means Visulization\n",
    "#### Choose two features to execute your K-means function and draw a scatter plot with the computed centers and the predicted label for each instance\n",
    "\n",
    "這邊使用 feature 6 and 7 去做 k-means, 紅點為 center。"
   ]
  },
  {
   "cell_type": "code",
   "execution_count": 8,
   "id": "suitable-capture",
   "metadata": {},
   "outputs": [
    {
     "data": {
      "image/png": "[encoded data removed]",
      "text/plain": [
       "<Figure size 432x288 with 1 Axes>"
      ]
     },
     "metadata": {
      "needs_background": "light"
     },
     "output_type": "display_data"
    }
   ],
   "source": [
    "import seaborn as sns\n",
    "import matplotlib.pyplot as plt\n",
    "\n",
    "now_X = X[:, 5:7]\n",
    "now_Y = Y\n",
    "\n",
    "group_info, group_mean = kmeans(now_X, 3)\n",
    "\n",
    "nums = [{ 1: 0, 2:0, 3:0 } for i in range(3)]\n",
    "p = 0\n",
    "for i in group_info:\n",
    "    nums[i][Y[p]] += 1\n",
    "    p += 1\n",
    "gp_to_key = {}\n",
    "for i in range(3):\n",
    "    gp_to_key[i] = max(nums[i], key=nums[i].get)\n",
    "    \n",
    "now_X = pd.DataFrame(now_X)\n",
    "now_X.columns = ['fea_5', 'fea_6']\n",
    "now_Y = pd.DataFrame([gp_to_key[i] for i in group_info])\n",
    "now_Y.columns = ['lable']\n",
    "\n",
    "data_all = pd.concat([now_X, now_Y], axis = 1)\n",
    "data_men = pd.DataFrame(group_mean)\n",
    "data_men.columns = ['x', 'y']\n",
    "\n",
    "ax = sns.scatterplot(data = data_all, x = 'fea_5', y = 'fea_6', hue = 'lable')\n",
    "ax = sns.scatterplot(data = data_men, x = 'x', y = 'y', color = 'red', ax=ax)"
   ]
  },
  {
   "cell_type": "markdown",
   "id": "spoken-programmer",
   "metadata": {},
   "source": [
    "# 2021 Intro. to Machine Learning \n",
    "## Program Assignment #3 - Support Vector Machine\n",
    "\n",
    "\n",
    "### 0816153 陳琮方"
   ]
  },
  {
   "cell_type": "code",
   "execution_count": 1,
   "id": "human-onion",
   "metadata": {},
   "outputs": [],
   "source": [
    "import pandas as pd\n",
    "import numpy as np\n",
    "import warnings\n",
    "warnings.filterwarnings('ignore')"
   ]
  },
  {
   "cell_type": "markdown",
   "id": "fantastic-carolina",
   "metadata": {},
   "source": [
    "## Data Input\n",
    "\n",
    "使用 Pandas 將資料讀成 DataFrame"
   ]
  },
  {
   "cell_type": "code",
   "execution_count": 2,
   "id": "medium-enhancement",
   "metadata": {},
   "outputs": [
    {
     "name": "stdout",
     "output_type": "stream",
     "text": [
      "Data Shape = (351, 35)\n"
     ]
    }
   ],
   "source": [
    "raw_data_path = './Dataset/ionosphere.data'\n",
    "\n",
    "raw_data = pd.read_csv(raw_data_path, header = None)\n",
    "\n",
    "print(f'Data Shape = {raw_data.shape}')"
   ]
  },
  {
   "cell_type": "markdown",
   "id": "decreased-agency",
   "metadata": {},
   "source": [
    "## Data Preprocessing\n",
    "\n",
    "將 Label 拉出來行成 Y，同時先將資料做 shuffle 。"
   ]
  },
  {
   "cell_type": "code",
   "execution_count": 3,
   "id": "first-sessions",
   "metadata": {},
   "outputs": [
    {
     "name": "stdout",
     "output_type": "stream",
     "text": [
      "Dataset size = (351, 35)\n",
      "\n",
      "X size: (351, 34)\n",
      "Y size: (351, 1)\n"
     ]
    }
   ],
   "source": [
    "# Shuffle\n",
    "raw_data = raw_data.sample(frac=1).reset_index(drop=True)\n",
    "\n",
    "print(f'Dataset size = {raw_data.shape}\\n')\n",
    "\n",
    "X = raw_data.iloc[:, :-1]\n",
    "Y = raw_data.iloc[:, -1:]\n",
    "\n",
    "print(f'X size: {X.shape}')\n",
    "print(f'Y size: {Y.shape}')"
   ]
  },
  {
   "cell_type": "markdown",
   "id": "approved-trauma",
   "metadata": {},
   "source": [
    "### Holdout validation\n",
    "\n",
    "本題採用 Hold-Validation ，我使用 sklearn 的 ```train_test_split```"
   ]
  },
  {
   "cell_type": "code",
   "execution_count": 4,
   "id": "killing-commons",
   "metadata": {},
   "outputs": [],
   "source": [
    "from sklearn import model_selection\n",
    "from sklearn.model_selection import train_test_split\n",
    "\n",
    "X_train, X_test, Y_train, Y_test = model_selection.train_test_split(\n",
    "                                        X, Y, test_size=0.30, shuffle=True, random_state=50)"
   ]
  },
  {
   "cell_type": "markdown",
   "id": "working-politics",
   "metadata": {},
   "source": [
    "## Support Vector Machine"
   ]
  },
  {
   "cell_type": "markdown",
   "id": "mediterranean-happening",
   "metadata": {},
   "source": [
    "### Parameter Search\n",
    "\n",
    "這裡使用 sklearn 中的 GridSearchCV ，同時測試哪個參數設定比較好，也有 cross-validation ，並讓 clf 最後為效果最好的那一個 model 。\n",
    "\n",
    "下面有三總不同的 kernel 測試結果的表格，已經照 rank_test_score 排序。"
   ]
  },
  {
   "cell_type": "code",
   "execution_count": 5,
   "id": "material-portland",
   "metadata": {},
   "outputs": [
    {
     "data": {
      "text/plain": [
       "GridSearchCV(cv=5, estimator=SVC(), param_grid={'gamma': [1.0, 3.0]})"
      ]
     },
     "execution_count": 5,
     "metadata": {},
     "output_type": "execute_result"
    }
   ],
   "source": [
    "from sklearn.model_selection import GridSearchCV\n",
    "from sklearn.svm import SVC\n",
    "\n",
    "parameters_lin = { }\n",
    "parameters_pol = { 'degree' : [2, 5, 8], 'gamma' : [1.0, 3.0], 'coef0' : [0.0, 2.0] }\n",
    "parameters_gam = { 'gamma' : [1.0, 3.0]}\n",
    "\n",
    "clf_lin = GridSearchCV(SVC(kernel = 'linear'), parameters_lin, cv = 5)\n",
    "clf_pol = GridSearchCV(SVC(kernel = 'poly')  , parameters_pol, cv = 5)\n",
    "clf_rbf = GridSearchCV(SVC(kernel = 'rbf')   , parameters_gam, cv = 5)\n",
    "\n",
    "clf_lin.fit(X_train, Y_train)\n",
    "clf_pol.fit(X_train, Y_train)\n",
    "clf_rbf.fit(X_train, Y_train)"
   ]
  },
  {
   "cell_type": "markdown",
   "id": "living-watts",
   "metadata": {},
   "source": [
    "#### Linear"
   ]
  },
  {
   "cell_type": "code",
   "execution_count": 6,
   "id": "pacific-jurisdiction",
   "metadata": {},
   "outputs": [
    {
     "data": {
      "text/html": [
       "<div>\n",
       "<style scoped>\n",
       "    .dataframe tbody tr th:only-of-type {\n",
       "        vertical-align: middle;\n",
       "    }\n",
       "\n",
       "    .dataframe tbody tr th {\n",
       "        vertical-align: top;\n",
       "    }\n",
       "\n",
       "    .dataframe thead th {\n",
       "        text-align: right;\n",
       "    }\n",
       "</style>\n",
       "<table border=\"1\" class=\"dataframe\">\n",
       "  <thead>\n",
       "    <tr style=\"text-align: right;\">\n",
       "      <th></th>\n",
       "      <th>mean_test_score</th>\n",
       "      <th>split0_test_score</th>\n",
       "      <th>split1_test_score</th>\n",
       "      <th>split2_test_score</th>\n",
       "      <th>split3_test_score</th>\n",
       "      <th>split4_test_score</th>\n",
       "      <th>rank_test_score</th>\n",
       "    </tr>\n",
       "  </thead>\n",
       "  <tbody>\n",
       "    <tr>\n",
       "      <th>0</th>\n",
       "      <td>0.853061</td>\n",
       "      <td>0.877551</td>\n",
       "      <td>0.857143</td>\n",
       "      <td>0.836735</td>\n",
       "      <td>0.816327</td>\n",
       "      <td>0.877551</td>\n",
       "      <td>1</td>\n",
       "    </tr>\n",
       "  </tbody>\n",
       "</table>\n",
       "</div>"
      ],
      "text/plain": [
       "   mean_test_score  split0_test_score  split1_test_score  split2_test_score  \\\n",
       "0         0.853061           0.877551           0.857143           0.836735   \n",
       "\n",
       "   split3_test_score  split4_test_score  rank_test_score  \n",
       "0           0.816327           0.877551                1  "
      ]
     },
     "execution_count": 6,
     "metadata": {},
     "output_type": "execute_result"
    }
   ],
   "source": [
    "df = pd.DataFrame(clf_lin.cv_results_)\n",
    "df = df[[\n",
    "    'mean_test_score', 'split0_test_score',\n",
    "    'split1_test_score', 'split2_test_score', 'split3_test_score', 'split4_test_score', 'rank_test_score'\n",
    "]].sort_values(by=['rank_test_score'])\n",
    "df"
   ]
  },
  {
   "cell_type": "markdown",
   "id": "gentle-affairs",
   "metadata": {},
   "source": [
    "#### Polynomial"
   ]
  },
  {
   "cell_type": "code",
   "execution_count": 7,
   "id": "bulgarian-submission",
   "metadata": {},
   "outputs": [
    {
     "data": {
      "text/html": [
       "<div>\n",
       "<style scoped>\n",
       "    .dataframe tbody tr th:only-of-type {\n",
       "        vertical-align: middle;\n",
       "    }\n",
       "\n",
       "    .dataframe tbody tr th {\n",
       "        vertical-align: top;\n",
       "    }\n",
       "\n",
       "    .dataframe thead th {\n",
       "        text-align: right;\n",
       "    }\n",
       "</style>\n",
       "<table border=\"1\" class=\"dataframe\">\n",
       "  <thead>\n",
       "    <tr style=\"text-align: right;\">\n",
       "      <th></th>\n",
       "      <th>mean_test_score</th>\n",
       "      <th>param_coef0</th>\n",
       "      <th>param_degree</th>\n",
       "      <th>param_gamma</th>\n",
       "      <th>split0_test_score</th>\n",
       "      <th>split1_test_score</th>\n",
       "      <th>split2_test_score</th>\n",
       "      <th>split3_test_score</th>\n",
       "      <th>split4_test_score</th>\n",
       "      <th>rank_test_score</th>\n",
       "    </tr>\n",
       "  </thead>\n",
       "  <tbody>\n",
       "    <tr>\n",
       "      <th>0</th>\n",
       "      <td>0.865306</td>\n",
       "      <td>0.0</td>\n",
       "      <td>2</td>\n",
       "      <td>1.0</td>\n",
       "      <td>0.877551</td>\n",
       "      <td>0.857143</td>\n",
       "      <td>0.857143</td>\n",
       "      <td>0.795918</td>\n",
       "      <td>0.938776</td>\n",
       "      <td>1</td>\n",
       "    </tr>\n",
       "    <tr>\n",
       "      <th>6</th>\n",
       "      <td>0.861224</td>\n",
       "      <td>2.0</td>\n",
       "      <td>2</td>\n",
       "      <td>1.0</td>\n",
       "      <td>0.877551</td>\n",
       "      <td>0.836735</td>\n",
       "      <td>0.857143</td>\n",
       "      <td>0.795918</td>\n",
       "      <td>0.938776</td>\n",
       "      <td>2</td>\n",
       "    </tr>\n",
       "    <tr>\n",
       "      <th>1</th>\n",
       "      <td>0.840816</td>\n",
       "      <td>0.0</td>\n",
       "      <td>2</td>\n",
       "      <td>3.0</td>\n",
       "      <td>0.775510</td>\n",
       "      <td>0.836735</td>\n",
       "      <td>0.836735</td>\n",
       "      <td>0.857143</td>\n",
       "      <td>0.897959</td>\n",
       "      <td>3</td>\n",
       "    </tr>\n",
       "    <tr>\n",
       "      <th>8</th>\n",
       "      <td>0.828571</td>\n",
       "      <td>2.0</td>\n",
       "      <td>5</td>\n",
       "      <td>1.0</td>\n",
       "      <td>0.816327</td>\n",
       "      <td>0.836735</td>\n",
       "      <td>0.816327</td>\n",
       "      <td>0.795918</td>\n",
       "      <td>0.877551</td>\n",
       "      <td>4</td>\n",
       "    </tr>\n",
       "    <tr>\n",
       "      <th>7</th>\n",
       "      <td>0.828571</td>\n",
       "      <td>2.0</td>\n",
       "      <td>2</td>\n",
       "      <td>3.0</td>\n",
       "      <td>0.775510</td>\n",
       "      <td>0.836735</td>\n",
       "      <td>0.836735</td>\n",
       "      <td>0.836735</td>\n",
       "      <td>0.857143</td>\n",
       "      <td>5</td>\n",
       "    </tr>\n",
       "    <tr>\n",
       "      <th>9</th>\n",
       "      <td>0.820408</td>\n",
       "      <td>2.0</td>\n",
       "      <td>5</td>\n",
       "      <td>3.0</td>\n",
       "      <td>0.795918</td>\n",
       "      <td>0.795918</td>\n",
       "      <td>0.816327</td>\n",
       "      <td>0.816327</td>\n",
       "      <td>0.877551</td>\n",
       "      <td>6</td>\n",
       "    </tr>\n",
       "    <tr>\n",
       "      <th>3</th>\n",
       "      <td>0.812245</td>\n",
       "      <td>0.0</td>\n",
       "      <td>5</td>\n",
       "      <td>3.0</td>\n",
       "      <td>0.816327</td>\n",
       "      <td>0.755102</td>\n",
       "      <td>0.816327</td>\n",
       "      <td>0.795918</td>\n",
       "      <td>0.877551</td>\n",
       "      <td>7</td>\n",
       "    </tr>\n",
       "    <tr>\n",
       "      <th>10</th>\n",
       "      <td>0.812245</td>\n",
       "      <td>2.0</td>\n",
       "      <td>8</td>\n",
       "      <td>1.0</td>\n",
       "      <td>0.795918</td>\n",
       "      <td>0.755102</td>\n",
       "      <td>0.816327</td>\n",
       "      <td>0.795918</td>\n",
       "      <td>0.897959</td>\n",
       "      <td>7</td>\n",
       "    </tr>\n",
       "    <tr>\n",
       "      <th>11</th>\n",
       "      <td>0.812245</td>\n",
       "      <td>2.0</td>\n",
       "      <td>8</td>\n",
       "      <td>3.0</td>\n",
       "      <td>0.795918</td>\n",
       "      <td>0.775510</td>\n",
       "      <td>0.775510</td>\n",
       "      <td>0.795918</td>\n",
       "      <td>0.918367</td>\n",
       "      <td>7</td>\n",
       "    </tr>\n",
       "    <tr>\n",
       "      <th>2</th>\n",
       "      <td>0.808163</td>\n",
       "      <td>0.0</td>\n",
       "      <td>5</td>\n",
       "      <td>1.0</td>\n",
       "      <td>0.816327</td>\n",
       "      <td>0.734694</td>\n",
       "      <td>0.816327</td>\n",
       "      <td>0.795918</td>\n",
       "      <td>0.877551</td>\n",
       "      <td>10</td>\n",
       "    </tr>\n",
       "    <tr>\n",
       "      <th>4</th>\n",
       "      <td>0.791837</td>\n",
       "      <td>0.0</td>\n",
       "      <td>8</td>\n",
       "      <td>1.0</td>\n",
       "      <td>0.795918</td>\n",
       "      <td>0.755102</td>\n",
       "      <td>0.795918</td>\n",
       "      <td>0.755102</td>\n",
       "      <td>0.857143</td>\n",
       "      <td>11</td>\n",
       "    </tr>\n",
       "    <tr>\n",
       "      <th>5</th>\n",
       "      <td>0.791837</td>\n",
       "      <td>0.0</td>\n",
       "      <td>8</td>\n",
       "      <td>3.0</td>\n",
       "      <td>0.795918</td>\n",
       "      <td>0.755102</td>\n",
       "      <td>0.795918</td>\n",
       "      <td>0.755102</td>\n",
       "      <td>0.857143</td>\n",
       "      <td>11</td>\n",
       "    </tr>\n",
       "  </tbody>\n",
       "</table>\n",
       "</div>"
      ],
      "text/plain": [
       "    mean_test_score param_coef0 param_degree param_gamma  split0_test_score  \\\n",
       "0          0.865306         0.0            2         1.0           0.877551   \n",
       "6          0.861224         2.0            2         1.0           0.877551   \n",
       "1          0.840816         0.0            2         3.0           0.775510   \n",
       "8          0.828571         2.0            5         1.0           0.816327   \n",
       "7          0.828571         2.0            2         3.0           0.775510   \n",
       "9          0.820408         2.0            5         3.0           0.795918   \n",
       "3          0.812245         0.0            5         3.0           0.816327   \n",
       "10         0.812245         2.0            8         1.0           0.795918   \n",
       "11         0.812245         2.0            8         3.0           0.795918   \n",
       "2          0.808163         0.0            5         1.0           0.816327   \n",
       "4          0.791837         0.0            8         1.0           0.795918   \n",
       "5          0.791837         0.0            8         3.0           0.795918   \n",
       "\n",
       "    split1_test_score  split2_test_score  split3_test_score  \\\n",
       "0            0.857143           0.857143           0.795918   \n",
       "6            0.836735           0.857143           0.795918   \n",
       "1            0.836735           0.836735           0.857143   \n",
       "8            0.836735           0.816327           0.795918   \n",
       "7            0.836735           0.836735           0.836735   \n",
       "9            0.795918           0.816327           0.816327   \n",
       "3            0.755102           0.816327           0.795918   \n",
       "10           0.755102           0.816327           0.795918   \n",
       "11           0.775510           0.775510           0.795918   \n",
       "2            0.734694           0.816327           0.795918   \n",
       "4            0.755102           0.795918           0.755102   \n",
       "5            0.755102           0.795918           0.755102   \n",
       "\n",
       "    split4_test_score  rank_test_score  \n",
       "0            0.938776                1  \n",
       "6            0.938776                2  \n",
       "1            0.897959                3  \n",
       "8            0.877551                4  \n",
       "7            0.857143                5  \n",
       "9            0.877551                6  \n",
       "3            0.877551                7  \n",
       "10           0.897959                7  \n",
       "11           0.918367                7  \n",
       "2            0.877551               10  \n",
       "4            0.857143               11  \n",
       "5            0.857143               11  "
      ]
     },
     "execution_count": 7,
     "metadata": {},
     "output_type": "execute_result"
    }
   ],
   "source": [
    "df = pd.DataFrame(clf_pol.cv_results_)\n",
    "df = df[[\n",
    "    'mean_test_score', 'param_coef0', 'param_degree', 'param_gamma', 'split0_test_score',\n",
    "    'split1_test_score', 'split2_test_score', 'split3_test_score', 'split4_test_score', 'rank_test_score'\n",
    "]].sort_values(by=['rank_test_score'])\n",
    "df"
   ]
  },
  {
   "cell_type": "markdown",
   "id": "italian-intake",
   "metadata": {},
   "source": [
    "#### RBF"
   ]
  },
  {
   "cell_type": "code",
   "execution_count": 8,
   "id": "conditional-implementation",
   "metadata": {},
   "outputs": [
    {
     "data": {
      "text/html": [
       "<div>\n",
       "<style scoped>\n",
       "    .dataframe tbody tr th:only-of-type {\n",
       "        vertical-align: middle;\n",
       "    }\n",
       "\n",
       "    .dataframe tbody tr th {\n",
       "        vertical-align: top;\n",
       "    }\n",
       "\n",
       "    .dataframe thead th {\n",
       "        text-align: right;\n",
       "    }\n",
       "</style>\n",
       "<table border=\"1\" class=\"dataframe\">\n",
       "  <thead>\n",
       "    <tr style=\"text-align: right;\">\n",
       "      <th></th>\n",
       "      <th>mean_test_score</th>\n",
       "      <th>param_gamma</th>\n",
       "      <th>split0_test_score</th>\n",
       "      <th>split1_test_score</th>\n",
       "      <th>split2_test_score</th>\n",
       "      <th>split3_test_score</th>\n",
       "      <th>split4_test_score</th>\n",
       "      <th>rank_test_score</th>\n",
       "    </tr>\n",
       "  </thead>\n",
       "  <tbody>\n",
       "    <tr>\n",
       "      <th>0</th>\n",
       "      <td>0.906122</td>\n",
       "      <td>1.0</td>\n",
       "      <td>0.979592</td>\n",
       "      <td>0.897959</td>\n",
       "      <td>0.836735</td>\n",
       "      <td>0.918367</td>\n",
       "      <td>0.897959</td>\n",
       "      <td>1</td>\n",
       "    </tr>\n",
       "    <tr>\n",
       "      <th>1</th>\n",
       "      <td>0.885714</td>\n",
       "      <td>3.0</td>\n",
       "      <td>0.938776</td>\n",
       "      <td>0.897959</td>\n",
       "      <td>0.795918</td>\n",
       "      <td>0.897959</td>\n",
       "      <td>0.897959</td>\n",
       "      <td>2</td>\n",
       "    </tr>\n",
       "  </tbody>\n",
       "</table>\n",
       "</div>"
      ],
      "text/plain": [
       "   mean_test_score param_gamma  split0_test_score  split1_test_score  \\\n",
       "0         0.906122         1.0           0.979592           0.897959   \n",
       "1         0.885714         3.0           0.938776           0.897959   \n",
       "\n",
       "   split2_test_score  split3_test_score  split4_test_score  rank_test_score  \n",
       "0           0.836735           0.918367           0.897959                1  \n",
       "1           0.795918           0.897959           0.897959                2  "
      ]
     },
     "execution_count": 8,
     "metadata": {},
     "output_type": "execute_result"
    }
   ],
   "source": [
    "df = pd.DataFrame(clf_rbf.cv_results_)\n",
    "df = df[[\n",
    "    'mean_test_score', 'param_gamma', 'split0_test_score',\n",
    "    'split1_test_score', 'split2_test_score', 'split3_test_score', 'split4_test_score', 'rank_test_score'\n",
    "]].sort_values(by=['rank_test_score'])\n",
    "df"
   ]
  },
  {
   "cell_type": "markdown",
   "id": "mediterranean-living",
   "metadata": {},
   "source": [
    "### Result\n",
    "\n",
    "這裡也使用 sklearn 的 function 去算不同 model 的表現，最後整理成表格。"
   ]
  },
  {
   "cell_type": "code",
   "execution_count": 9,
   "id": "resistant-hearts",
   "metadata": {},
   "outputs": [],
   "source": [
    "from sklearn.metrics import accuracy_score, recall_score, confusion_matrix, precision_score\n",
    "\n",
    "def getResult(y_test, y_pred):\n",
    "    ret = {}\n",
    "    \n",
    "    ret['Accuracy'] = round(accuracy_score(y_test, y_pred), 4) * 100\n",
    "    ret['Recall'] = np.round(recall_score(y_test, y_pred, average=None), 2)\n",
    "    ret['Precision'] = np.round(precision_score(y_test, y_pred, average=None), 2)\n",
    "    ret['Confusion Matrix'] = confusion_matrix(y_test, y_pred)\n",
    "    \n",
    "    return ret"
   ]
  },
  {
   "cell_type": "code",
   "execution_count": 10,
   "id": "medieval-design",
   "metadata": {},
   "outputs": [
    {
     "data": {
      "text/html": [
       "<div>\n",
       "<style scoped>\n",
       "    .dataframe tbody tr th:only-of-type {\n",
       "        vertical-align: middle;\n",
       "    }\n",
       "\n",
       "    .dataframe tbody tr th {\n",
       "        vertical-align: top;\n",
       "    }\n",
       "\n",
       "    .dataframe thead th {\n",
       "        text-align: right;\n",
       "    }\n",
       "</style>\n",
       "<table border=\"1\" class=\"dataframe\">\n",
       "  <thead>\n",
       "    <tr style=\"text-align: right;\">\n",
       "      <th></th>\n",
       "      <th>Accuracy</th>\n",
       "      <th>Recall</th>\n",
       "      <th>Precision</th>\n",
       "      <th>Confusion Matrix</th>\n",
       "    </tr>\n",
       "  </thead>\n",
       "  <tbody>\n",
       "    <tr>\n",
       "      <th>Linear</th>\n",
       "      <td>90.57</td>\n",
       "      <td>[0.71, 1.0]</td>\n",
       "      <td>[1.0, 0.88]</td>\n",
       "      <td>[[24, 10], [0, 72]]</td>\n",
       "    </tr>\n",
       "    <tr>\n",
       "      <th>RBF</th>\n",
       "      <td>91.51</td>\n",
       "      <td>[0.97, 0.89]</td>\n",
       "      <td>[0.8, 0.98]</td>\n",
       "      <td>[[33, 1], [8, 64]]</td>\n",
       "    </tr>\n",
       "    <tr>\n",
       "      <th>Polynomial</th>\n",
       "      <td>91.51</td>\n",
       "      <td>[0.79, 0.97]</td>\n",
       "      <td>[0.93, 0.91]</td>\n",
       "      <td>[[27, 7], [2, 70]]</td>\n",
       "    </tr>\n",
       "  </tbody>\n",
       "</table>\n",
       "</div>"
      ],
      "text/plain": [
       "            Accuracy        Recall     Precision     Confusion Matrix\n",
       "Linear         90.57   [0.71, 1.0]   [1.0, 0.88]  [[24, 10], [0, 72]]\n",
       "RBF            91.51  [0.97, 0.89]   [0.8, 0.98]   [[33, 1], [8, 64]]\n",
       "Polynomial     91.51  [0.79, 0.97]  [0.93, 0.91]   [[27, 7], [2, 70]]"
      ]
     },
     "execution_count": 10,
     "metadata": {},
     "output_type": "execute_result"
    }
   ],
   "source": [
    "result = {}\n",
    "\n",
    "result['Linear'] = getResult(Y_test, clf_lin.predict(X_test))\n",
    "result['RBF'] = getResult(Y_test, clf_rbf.predict(X_test))\n",
    "result['Polynomial'] = getResult(Y_test, clf_pol.predict(X_test))\n",
    "\n",
    "df = pd.DataFrame.from_dict(result, orient = 'index')\n",
    "df"
   ]
  },
  {
   "cell_type": "markdown",
   "id": "measured-scenario",
   "metadata": {},
   "source": [
    "## Question\n",
    "### Show the average performance of K-fold cross-validation of parameter search in tables for each kernel\n",
    "\n",
    "The result showed in upper cells which are in \"Parameter Search\" section.\n",
    "Which is called 'mean_test_score' column."
   ]
  }
 ],
 "metadata": {
  "kernelspec": {
   "display_name": "Python 3",
   "language": "python",
   "name": "python3"
  },
  "language_info": {
   "codemirror_mode": {
    "name": "ipython",
    "version": 3
   },
   "file_extension": ".py",
   "mimetype": "text/x-python",
   "name": "python",
   "nbconvert_exporter": "python",
   "pygments_lexer": "ipython3",
   "version": "3.9.7"
  }
 },
 "nbformat": 4,
 "nbformat_minor": 5
}
