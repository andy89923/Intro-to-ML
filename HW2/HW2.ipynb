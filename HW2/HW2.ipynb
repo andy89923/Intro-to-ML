{
 "cells": [
  {
   "cell_type": "markdown",
   "id": "american-italian",
   "metadata": {},
   "source": [
    "# 2021 Intro. to Machine Learning \n",
    "## Program Assignment #2 - Decision Tree & Random Forest & KNN & PCA\n",
    "\n",
    "\n",
    "### 0816153 陳琮方"
   ]
  },
  {
   "cell_type": "code",
   "execution_count": null,
   "id": "maritime-lounge",
   "metadata": {},
   "outputs": [],
   "source": [
    "import pandas as pd\n",
    "import seaborn as sns\n",
    "import numpy as np\n",
    "import matplotlib.pyplot as plt\n",
    "\n",
    "from sklearn import model_selection\n",
    "from sklearn.model_selection import train_test_split, KFold"
   ]
  },
  {
   "cell_type": "markdown",
   "id": "suitable-onion",
   "metadata": {},
   "source": [
    "# Data Input & Preprocessing"
   ]
  },
  {
   "cell_type": "code",
   "execution_count": null,
   "id": "african-marina",
   "metadata": {},
   "outputs": [],
   "source": [
    "from sklearn.preprocessing import OneHotEncoder\n",
    "from sklearn.preprocessing import LabelEncoder\n",
    "\n",
    "data_path = './Dataset/student-mat.csv'\n",
    "TARGET_LABEL = 'G3'"
   ]
  },
  {
   "cell_type": "code",
   "execution_count": null,
   "id": "boring-amount",
   "metadata": {},
   "outputs": [],
   "source": [
    "raw_data = pd.read_csv(data_path, sep = ';')\n",
    "\n",
    "print(f'Dataset size = {raw_data.shape}\\n')\n",
    "\n",
    "X_raw = raw_data.drop(TARGET_LABEL, axis = 1)\n",
    "Y_raw = raw_data[TARGET_LABEL]\n",
    "\n",
    "print(f'X size: {X_raw.shape}')"
   ]
  },
  {
   "cell_type": "markdown",
   "id": "appointed-college",
   "metadata": {},
   "source": [
    "### OneHotEncode"
   ]
  },
  {
   "cell_type": "code",
   "execution_count": null,
   "id": "functional-violence",
   "metadata": {},
   "outputs": [],
   "source": [
    "# Binary Features\n",
    "bin_feat = [\n",
    "    'school', 'sex', 'address', 'famsize', 'Pstatus', \n",
    "    'schoolsup', 'famsup', 'paid', 'activities', 'nursery', 'higher', \n",
    "    'internet', 'romantic'\n",
    "]\n",
    "\n",
    "# Nominal Features\n",
    "cat_feat = [\n",
    "    'Mjob', 'Fjob', 'reason', 'guardian'           \n",
    "]"
   ]
  },
  {
   "cell_type": "code",
   "execution_count": null,
   "id": "weird-fireplace",
   "metadata": {},
   "outputs": [],
   "source": [
    "enc = OneHotEncoder(categories = 'auto', drop='if_binary')\n",
    "enc.fit(X_raw[cat_feat])\n",
    "\n",
    "data_array = enc.transform(X_raw[cat_feat]).toarray()\n",
    "feat_names = enc.get_feature_names_out(cat_feat)\n",
    "\n",
    "data_frams = pd.DataFrame(data_array, index = X_raw.index, columns = feat_names)\n",
    "\n",
    "X = pd.concat([X_raw.drop(columns = cat_feat), data_frams], axis = 1)\n",
    "\n",
    "print(f'Number of categorical features: {len(cat_feat)}')\n",
    "print(f'Sum of unique categorical: {len(feat_names)}')\n",
    "\n",
    "print('\\n=====================================')\n",
    "print(f'X size after one-hot: {X.shape}')"
   ]
  },
  {
   "cell_type": "markdown",
   "id": "intellectual-clinic",
   "metadata": {},
   "source": [
    "### Other Preprocessing\n",
    "\n",
    "- Binary classification - pass if G3 ≥ 10, else fail.\n",
    "- 5-Level classification - based on the Erasmus grad conversion system.\n",
    "\n",
    "\n",
    "|G3   | 16-20  | 14-15  | 12-13  |  10-11 |   0-9  |\n",
    "|-----|--------|--------|--------|--------|--------|\n",
    "|Rank |    A   |    B   |    C   |    D   |    F   |"
   ]
  },
  {
   "cell_type": "code",
   "execution_count": null,
   "id": "contrary-saver",
   "metadata": {},
   "outputs": [],
   "source": [
    "Y_bin = []\n",
    "Y_5lv = []\n",
    "\n",
    "for i in Y_raw:\n",
    "    Y_bin.append((1 if i >= 10 else 0))\n",
    "    if i >= 16: Y_5lv.append('A'); continue;\n",
    "    if i >= 14: Y_5lv.append('B'); continue;\n",
    "    if i >= 12: Y_5lv.append('C'); continue;\n",
    "    if i >= 10: Y_5lv.append('D'); continue;\n",
    "    Y_5lv.append('F')"
   ]
  },
  {
   "cell_type": "markdown",
   "id": "european-cliff",
   "metadata": {},
   "source": [
    "# Principal Components Analysis (PCA)"
   ]
  },
  {
   "cell_type": "code",
   "execution_count": null,
   "id": "hearing-weather",
   "metadata": {},
   "outputs": [],
   "source": [
    "from sklearn import decomposition\n",
    "\n",
    "PCA_DIMENTION = 15"
   ]
  },
  {
   "cell_type": "code",
   "execution_count": null,
   "id": "opening-robinson",
   "metadata": {},
   "outputs": [],
   "source": [
    "pca = decomposition.PCA(n_components = PCA_DIMENTION)\n",
    "pca.fit(X)\n",
    "\n",
    "print(pca.components)"
   ]
  },
  {
   "cell_type": "code",
   "execution_count": null,
   "id": "foster-administrator",
   "metadata": {},
   "outputs": [],
   "source": []
  }
 ],
 "metadata": {
  "kernelspec": {
   "display_name": "Python 3",
   "language": "python",
   "name": "python3"
  },
  "language_info": {
   "codemirror_mode": {
    "name": "ipython",
    "version": 3
   },
   "file_extension": ".py",
   "mimetype": "text/x-python",
   "name": "python",
   "nbconvert_exporter": "python",
   "pygments_lexer": "ipython3",
   "version": "3.9.7"
  }
 },
 "nbformat": 4,
 "nbformat_minor": 5
}
